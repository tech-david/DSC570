{
 "cells": [
  {
   "cell_type": "code",
   "execution_count": 1,
   "id": "01201c56",
   "metadata": {},
   "outputs": [],
   "source": [
    "import pandas as pd\n",
    "import numpy as np\n",
    "import seaborn as sns\n",
    "import matplotlib.pyplot as plt\n",
    "from sklearn.linear_model import LinearRegression"
   ]
  },
  {
   "cell_type": "code",
   "execution_count": 2,
   "id": "d06865c8",
   "metadata": {},
   "outputs": [],
   "source": [
    "exams_df = pd.read_csv(\"exams.csv\",\n",
    "                      header=[0])\n",
    "exams_df_no_outlier = exams_df.drop(6)\n",
    "exams_df_no_outlier = exams_df_no_outlier.reset_index(drop=True)"
   ]
  },
  {
   "cell_type": "code",
   "execution_count": 3,
   "id": "77071f58",
   "metadata": {},
   "outputs": [
    {
     "data": {
      "text/html": [
       "<div>\n",
       "<style scoped>\n",
       "    .dataframe tbody tr th:only-of-type {\n",
       "        vertical-align: middle;\n",
       "    }\n",
       "\n",
       "    .dataframe tbody tr th {\n",
       "        vertical-align: top;\n",
       "    }\n",
       "\n",
       "    .dataframe thead th {\n",
       "        text-align: right;\n",
       "    }\n",
       "</style>\n",
       "<table border=\"1\" class=\"dataframe\">\n",
       "  <thead>\n",
       "    <tr style=\"text-align: right;\">\n",
       "      <th></th>\n",
       "      <th>midterm</th>\n",
       "      <th>final</th>\n",
       "    </tr>\n",
       "  </thead>\n",
       "  <tbody>\n",
       "    <tr>\n",
       "      <th>0</th>\n",
       "      <td>72</td>\n",
       "      <td>84</td>\n",
       "    </tr>\n",
       "    <tr>\n",
       "      <th>1</th>\n",
       "      <td>50</td>\n",
       "      <td>63</td>\n",
       "    </tr>\n",
       "    <tr>\n",
       "      <th>2</th>\n",
       "      <td>81</td>\n",
       "      <td>77</td>\n",
       "    </tr>\n",
       "    <tr>\n",
       "      <th>3</th>\n",
       "      <td>74</td>\n",
       "      <td>78</td>\n",
       "    </tr>\n",
       "    <tr>\n",
       "      <th>4</th>\n",
       "      <td>94</td>\n",
       "      <td>90</td>\n",
       "    </tr>\n",
       "    <tr>\n",
       "      <th>5</th>\n",
       "      <td>86</td>\n",
       "      <td>75</td>\n",
       "    </tr>\n",
       "    <tr>\n",
       "      <th>6</th>\n",
       "      <td>59</td>\n",
       "      <td>49</td>\n",
       "    </tr>\n",
       "    <tr>\n",
       "      <th>7</th>\n",
       "      <td>83</td>\n",
       "      <td>79</td>\n",
       "    </tr>\n",
       "    <tr>\n",
       "      <th>8</th>\n",
       "      <td>65</td>\n",
       "      <td>77</td>\n",
       "    </tr>\n",
       "    <tr>\n",
       "      <th>9</th>\n",
       "      <td>33</td>\n",
       "      <td>52</td>\n",
       "    </tr>\n",
       "    <tr>\n",
       "      <th>10</th>\n",
       "      <td>88</td>\n",
       "      <td>74</td>\n",
       "    </tr>\n",
       "    <tr>\n",
       "      <th>11</th>\n",
       "      <td>81</td>\n",
       "      <td>90</td>\n",
       "    </tr>\n",
       "  </tbody>\n",
       "</table>\n",
       "</div>"
      ],
      "text/plain": [
       "    midterm  final\n",
       "0        72     84\n",
       "1        50     63\n",
       "2        81     77\n",
       "3        74     78\n",
       "4        94     90\n",
       "5        86     75\n",
       "6        59     49\n",
       "7        83     79\n",
       "8        65     77\n",
       "9        33     52\n",
       "10       88     74\n",
       "11       81     90"
      ]
     },
     "execution_count": 3,
     "metadata": {},
     "output_type": "execute_result"
    }
   ],
   "source": [
    "exams_df"
   ]
  },
  {
   "cell_type": "code",
   "execution_count": 4,
   "id": "b6db8a86",
   "metadata": {},
   "outputs": [
    {
     "data": {
      "text/html": [
       "<div>\n",
       "<style scoped>\n",
       "    .dataframe tbody tr th:only-of-type {\n",
       "        vertical-align: middle;\n",
       "    }\n",
       "\n",
       "    .dataframe tbody tr th {\n",
       "        vertical-align: top;\n",
       "    }\n",
       "\n",
       "    .dataframe thead th {\n",
       "        text-align: right;\n",
       "    }\n",
       "</style>\n",
       "<table border=\"1\" class=\"dataframe\">\n",
       "  <thead>\n",
       "    <tr style=\"text-align: right;\">\n",
       "      <th></th>\n",
       "      <th>midterm</th>\n",
       "      <th>final</th>\n",
       "    </tr>\n",
       "  </thead>\n",
       "  <tbody>\n",
       "    <tr>\n",
       "      <th>0</th>\n",
       "      <td>72</td>\n",
       "      <td>84</td>\n",
       "    </tr>\n",
       "    <tr>\n",
       "      <th>1</th>\n",
       "      <td>50</td>\n",
       "      <td>63</td>\n",
       "    </tr>\n",
       "    <tr>\n",
       "      <th>2</th>\n",
       "      <td>81</td>\n",
       "      <td>77</td>\n",
       "    </tr>\n",
       "    <tr>\n",
       "      <th>3</th>\n",
       "      <td>74</td>\n",
       "      <td>78</td>\n",
       "    </tr>\n",
       "    <tr>\n",
       "      <th>4</th>\n",
       "      <td>94</td>\n",
       "      <td>90</td>\n",
       "    </tr>\n",
       "    <tr>\n",
       "      <th>5</th>\n",
       "      <td>86</td>\n",
       "      <td>75</td>\n",
       "    </tr>\n",
       "    <tr>\n",
       "      <th>6</th>\n",
       "      <td>83</td>\n",
       "      <td>79</td>\n",
       "    </tr>\n",
       "    <tr>\n",
       "      <th>7</th>\n",
       "      <td>65</td>\n",
       "      <td>77</td>\n",
       "    </tr>\n",
       "    <tr>\n",
       "      <th>8</th>\n",
       "      <td>33</td>\n",
       "      <td>52</td>\n",
       "    </tr>\n",
       "    <tr>\n",
       "      <th>9</th>\n",
       "      <td>88</td>\n",
       "      <td>74</td>\n",
       "    </tr>\n",
       "    <tr>\n",
       "      <th>10</th>\n",
       "      <td>81</td>\n",
       "      <td>90</td>\n",
       "    </tr>\n",
       "  </tbody>\n",
       "</table>\n",
       "</div>"
      ],
      "text/plain": [
       "    midterm  final\n",
       "0        72     84\n",
       "1        50     63\n",
       "2        81     77\n",
       "3        74     78\n",
       "4        94     90\n",
       "5        86     75\n",
       "6        83     79\n",
       "7        65     77\n",
       "8        33     52\n",
       "9        88     74\n",
       "10       81     90"
      ]
     },
     "execution_count": 4,
     "metadata": {},
     "output_type": "execute_result"
    }
   ],
   "source": [
    "exams_df_no_outlier"
   ]
  },
  {
   "cell_type": "code",
   "execution_count": 5,
   "id": "4a4ab037",
   "metadata": {},
   "outputs": [],
   "source": [
    "X = exams_df[['midterm']]\n",
    "y = exams_df[['final']]\n",
    "X_no_out = exams_df_no_outlier[['midterm']]\n",
    "y_no_out = exams_df_no_outlier[['final']]"
   ]
  },
  {
   "cell_type": "code",
   "execution_count": 6,
   "id": "4539eb29",
   "metadata": {},
   "outputs": [],
   "source": [
    "X = X.to_numpy()\n",
    "y = y.to_numpy()\n",
    "X_no_out = X_no_out.to_numpy()\n",
    "y_no_out = y_no_out.to_numpy()"
   ]
  },
  {
   "cell_type": "code",
   "execution_count": 7,
   "id": "c8f21d03",
   "metadata": {},
   "outputs": [],
   "source": [
    "sns.set_theme(style='darkgrid')"
   ]
  },
  {
   "cell_type": "code",
   "execution_count": 8,
   "id": "9ce181a5",
   "metadata": {},
   "outputs": [
    {
     "data": {
      "image/png": "[encoded data removed]",
      "text/plain": [
       "<Figure size 360x360 with 1 Axes>"
      ]
     },
     "metadata": {},
     "output_type": "display_data"
    },
    {
     "data": {
      "image/png": "[encoded data removed]",
      "text/plain": [
       "<Figure size 360x360 with 1 Axes>"
      ]
     },
     "metadata": {},
     "output_type": "display_data"
    }
   ],
   "source": [
    "sns.relplot(data=exams_df,\n",
    "           x=exams_df['midterm'],\n",
    "           y=exams_df['final'],\n",
    "           kind='line').set(title='With Outlier');\n",
    "sns.relplot(data=exams_df_no_outlier,\n",
    "           x=exams_df_no_outlier['midterm'],\n",
    "           y=exams_df_no_outlier['final'],\n",
    "           kind='line').set(title='Without Outlier');"
   ]
  },
  {
   "cell_type": "code",
   "execution_count": 9,
   "id": "93f6b89e",
   "metadata": {},
   "outputs": [],
   "source": [
    "## model with outlier \n",
    "reg = LinearRegression().fit(X, y)\n",
    "## model with outlier \n",
    "reg_no_out = LinearRegression().fit(X_no_out, y_no_out)"
   ]
  },
  {
   "cell_type": "code",
   "execution_count": 10,
   "id": "115b7fbb",
   "metadata": {},
   "outputs": [
    {
     "data": {
      "text/plain": [
       "array([[82.04546774]])"
      ]
     },
     "execution_count": 10,
     "metadata": {},
     "output_type": "execute_result"
    }
   ],
   "source": [
    "## Predicting final score of 86\n",
    "score_86 = np.array([86])\n",
    "score_86_finals = reg.predict(score_86.reshape(-1,1))\n",
    "score_86_finals"
   ]
  },
  {
   "cell_type": "code",
   "execution_count": 11,
   "id": "51547dca",
   "metadata": {},
   "outputs": [
    {
     "data": {
      "text/plain": [
       "array([[82.65546312]])"
      ]
     },
     "execution_count": 11,
     "metadata": {},
     "output_type": "execute_result"
    }
   ],
   "source": [
    "## Predicting final score of 86, no outlier\n",
    "score_86_no_out = np.array([86])\n",
    "score_86_finals_no_out = reg_no_out.predict(score_86_no_out.reshape(-1,1))\n",
    "score_86_finals_no_out"
   ]
  },
  {
   "cell_type": "code",
   "execution_count": 12,
   "id": "1c5a3790",
   "metadata": {},
   "outputs": [],
   "source": [
    "## Generating preidctions\n",
    "y_pred = reg.predict(X)\n",
    "y_pred_no_out = reg_no_out.predict(X_no_out)"
   ]
  },
  {
   "cell_type": "code",
   "execution_count": 13,
   "id": "06e73932",
   "metadata": {},
   "outputs": [
    {
     "name": "stdout",
     "output_type": "stream",
     "text": [
      "FinalScore = 32.03 + 0.58x\n"
     ]
    }
   ],
   "source": [
    "## Method of least squares equation\n",
    "y_intercept = '%.2f' % reg.intercept_\n",
    "midterms_score = '%.2f' % reg.coef_[0]\n",
    "print('Final Score = ' + y_intercept + ' + ' + midterms_score + 'x')"
   ]
  },
  {
   "cell_type": "code",
   "execution_count": 14,
   "id": "90047157",
   "metadata": {},
   "outputs": [
    {
     "name": "stdout",
     "output_type": "stream",
     "text": [
      "FinalScore = 39.22 + 0.51x\n"
     ]
    }
   ],
   "source": [
    "## Method of least squares equation for no outlier\n",
    "y_intercept_no_out = '%.2f' % reg_no_out.intercept_\n",
    "midterms_score_no_out = '%.2f' % reg_no_out.coef_[0]\n",
    "print('Final Score = ' + y_intercept_no_out + ' + ' + midterms_score_no_out + 'x')"
   ]
  },
  {
   "cell_type": "code",
   "execution_count": 15,
   "id": "31cb0da4",
   "metadata": {},
   "outputs": [
    {
     "data": {
      "text/html": [
       "<div>\n",
       "<style scoped>\n",
       "    .dataframe tbody tr th:only-of-type {\n",
       "        vertical-align: middle;\n",
       "    }\n",
       "\n",
       "    .dataframe tbody tr th {\n",
       "        vertical-align: top;\n",
       "    }\n",
       "\n",
       "    .dataframe thead th {\n",
       "        text-align: right;\n",
       "    }\n",
       "</style>\n",
       "<table border=\"1\" class=\"dataframe\">\n",
       "  <thead>\n",
       "    <tr style=\"text-align: right;\">\n",
       "      <th></th>\n",
       "      <th>midterm</th>\n",
       "      <th>final</th>\n",
       "      <th>predicted</th>\n",
       "    </tr>\n",
       "  </thead>\n",
       "  <tbody>\n",
       "    <tr>\n",
       "      <th>0</th>\n",
       "      <td>72</td>\n",
       "      <td>84</td>\n",
       "      <td>73.903067</td>\n",
       "    </tr>\n",
       "    <tr>\n",
       "      <th>1</th>\n",
       "      <td>50</td>\n",
       "      <td>63</td>\n",
       "      <td>61.107865</td>\n",
       "    </tr>\n",
       "    <tr>\n",
       "      <th>2</th>\n",
       "      <td>81</td>\n",
       "      <td>77</td>\n",
       "      <td>79.137467</td>\n",
       "    </tr>\n",
       "    <tr>\n",
       "      <th>3</th>\n",
       "      <td>74</td>\n",
       "      <td>78</td>\n",
       "      <td>75.066267</td>\n",
       "    </tr>\n",
       "    <tr>\n",
       "      <th>4</th>\n",
       "      <td>94</td>\n",
       "      <td>90</td>\n",
       "      <td>86.698268</td>\n",
       "    </tr>\n",
       "    <tr>\n",
       "      <th>5</th>\n",
       "      <td>86</td>\n",
       "      <td>75</td>\n",
       "      <td>82.045468</td>\n",
       "    </tr>\n",
       "    <tr>\n",
       "      <th>6</th>\n",
       "      <td>59</td>\n",
       "      <td>49</td>\n",
       "      <td>66.342266</td>\n",
       "    </tr>\n",
       "    <tr>\n",
       "      <th>7</th>\n",
       "      <td>83</td>\n",
       "      <td>79</td>\n",
       "      <td>80.300668</td>\n",
       "    </tr>\n",
       "    <tr>\n",
       "      <th>8</th>\n",
       "      <td>65</td>\n",
       "      <td>77</td>\n",
       "      <td>69.831866</td>\n",
       "    </tr>\n",
       "    <tr>\n",
       "      <th>9</th>\n",
       "      <td>33</td>\n",
       "      <td>52</td>\n",
       "      <td>51.220664</td>\n",
       "    </tr>\n",
       "    <tr>\n",
       "      <th>10</th>\n",
       "      <td>88</td>\n",
       "      <td>74</td>\n",
       "      <td>83.208668</td>\n",
       "    </tr>\n",
       "    <tr>\n",
       "      <th>11</th>\n",
       "      <td>81</td>\n",
       "      <td>90</td>\n",
       "      <td>79.137467</td>\n",
       "    </tr>\n",
       "  </tbody>\n",
       "</table>\n",
       "</div>"
      ],
      "text/plain": [
       "    midterm  final  predicted\n",
       "0        72     84  73.903067\n",
       "1        50     63  61.107865\n",
       "2        81     77  79.137467\n",
       "3        74     78  75.066267\n",
       "4        94     90  86.698268\n",
       "5        86     75  82.045468\n",
       "6        59     49  66.342266\n",
       "7        83     79  80.300668\n",
       "8        65     77  69.831866\n",
       "9        33     52  51.220664\n",
       "10       88     74  83.208668\n",
       "11       81     90  79.137467"
      ]
     },
     "execution_count": 15,
     "metadata": {},
     "output_type": "execute_result"
    }
   ],
   "source": [
    "## With outlier final table\n",
    "exams_pred_df = pd.concat([exams_df, pd.DataFrame(y_pred)],axis=1)\n",
    "exams_pred_df.columns = ['midterm', 'final', 'predicted']\n",
    "exams_pred_df"
   ]
  },
  {
   "cell_type": "code",
   "execution_count": 16,
   "id": "8e57d4ec",
   "metadata": {},
   "outputs": [
    {
     "data": {
      "text/html": [
       "<div>\n",
       "<style scoped>\n",
       "    .dataframe tbody tr th:only-of-type {\n",
       "        vertical-align: middle;\n",
       "    }\n",
       "\n",
       "    .dataframe tbody tr th {\n",
       "        vertical-align: top;\n",
       "    }\n",
       "\n",
       "    .dataframe thead th {\n",
       "        text-align: right;\n",
       "    }\n",
       "</style>\n",
       "<table border=\"1\" class=\"dataframe\">\n",
       "  <thead>\n",
       "    <tr style=\"text-align: right;\">\n",
       "      <th></th>\n",
       "      <th>midterm</th>\n",
       "      <th>final</th>\n",
       "      <th>predicted</th>\n",
       "    </tr>\n",
       "  </thead>\n",
       "  <tbody>\n",
       "    <tr>\n",
       "      <th>0</th>\n",
       "      <td>72</td>\n",
       "      <td>84</td>\n",
       "      <td>75.583943</td>\n",
       "    </tr>\n",
       "    <tr>\n",
       "      <th>1</th>\n",
       "      <td>50</td>\n",
       "      <td>63</td>\n",
       "      <td>64.471554</td>\n",
       "    </tr>\n",
       "    <tr>\n",
       "      <th>2</th>\n",
       "      <td>81</td>\n",
       "      <td>77</td>\n",
       "      <td>80.129920</td>\n",
       "    </tr>\n",
       "    <tr>\n",
       "      <th>3</th>\n",
       "      <td>74</td>\n",
       "      <td>78</td>\n",
       "      <td>76.594160</td>\n",
       "    </tr>\n",
       "    <tr>\n",
       "      <th>4</th>\n",
       "      <td>94</td>\n",
       "      <td>90</td>\n",
       "      <td>86.696332</td>\n",
       "    </tr>\n",
       "    <tr>\n",
       "      <th>5</th>\n",
       "      <td>86</td>\n",
       "      <td>75</td>\n",
       "      <td>82.655463</td>\n",
       "    </tr>\n",
       "    <tr>\n",
       "      <th>6</th>\n",
       "      <td>83</td>\n",
       "      <td>79</td>\n",
       "      <td>81.140137</td>\n",
       "    </tr>\n",
       "    <tr>\n",
       "      <th>7</th>\n",
       "      <td>65</td>\n",
       "      <td>77</td>\n",
       "      <td>72.048183</td>\n",
       "    </tr>\n",
       "    <tr>\n",
       "      <th>8</th>\n",
       "      <td>33</td>\n",
       "      <td>52</td>\n",
       "      <td>55.884708</td>\n",
       "    </tr>\n",
       "    <tr>\n",
       "      <th>9</th>\n",
       "      <td>88</td>\n",
       "      <td>74</td>\n",
       "      <td>83.665680</td>\n",
       "    </tr>\n",
       "    <tr>\n",
       "      <th>10</th>\n",
       "      <td>81</td>\n",
       "      <td>90</td>\n",
       "      <td>80.129920</td>\n",
       "    </tr>\n",
       "  </tbody>\n",
       "</table>\n",
       "</div>"
      ],
      "text/plain": [
       "    midterm  final  predicted\n",
       "0        72     84  75.583943\n",
       "1        50     63  64.471554\n",
       "2        81     77  80.129920\n",
       "3        74     78  76.594160\n",
       "4        94     90  86.696332\n",
       "5        86     75  82.655463\n",
       "6        83     79  81.140137\n",
       "7        65     77  72.048183\n",
       "8        33     52  55.884708\n",
       "9        88     74  83.665680\n",
       "10       81     90  80.129920"
      ]
     },
     "execution_count": 16,
     "metadata": {},
     "output_type": "execute_result"
    }
   ],
   "source": [
    "## Without outlier final table\n",
    "exams_pred_df_no_out = pd.concat([exams_df_no_outlier, pd.DataFrame(y_pred_no_out)],axis=1)\n",
    "exams_pred_df_no_out.columns = ['midterm', 'final', 'predicted']\n",
    "exams_pred_df_no_out"
   ]
  },
  {
   "cell_type": "code",
   "execution_count": 20,
   "id": "f0a286f1",
   "metadata": {},
   "outputs": [
    {
     "data": {
      "image/png": "[encoded data removed]",
      "text/plain": [
       "<Figure size 360x360 with 1 Axes>"
      ]
     },
     "metadata": {},
     "output_type": "display_data"
    },
    {
     "data": {
      "image/png": "[encoded data removed]",
      "text/plain": [
       "<Figure size 360x360 with 1 Axes>"
      ]
     },
     "metadata": {},
     "output_type": "display_data"
    }
   ],
   "source": [
    "## With outlier\n",
    "sns.relplot(data=exams_pred_df,\n",
    "            x=exams_pred_df['midterm'],\n",
    "            y=exams_pred_df['final'],\n",
    "            kind='line').set(title='True scores');\n",
    "sns.relplot(data=exams_pred_df,\n",
    "            x=exams_pred_df['final'],\n",
    "            y=exams_pred_df['predicted'],\n",
    "            kind='line').set(title='Predicted scores');"
   ]
  },
  {
   "cell_type": "code",
   "execution_count": 23,
   "id": "2e02c32c",
   "metadata": {},
   "outputs": [
    {
     "data": {
      "image/png": "[encoded data removed]",
      "text/plain": [
       "<Figure size 360x360 with 1 Axes>"
      ]
     },
     "metadata": {},
     "output_type": "display_data"
    },
    {
     "data": {
      "image/png": "[encoded data removed]",
      "text/plain": [
       "<Figure size 360x360 with 1 Axes>"
      ]
     },
     "metadata": {},
     "output_type": "display_data"
    }
   ],
   "source": [
    "## Without Outiler\n",
    "sns.relplot(data=exams_pred_df_no_out,\n",
    "            x=exams_pred_df_no_out['midterm'],\n",
    "            y=exams_pred_df_no_out['final'],\n",
    "            kind='line').set(title='True scores');\n",
    "sns.relplot(data=exams_pred_df_no_out,\n",
    "            x=exams_pred_df_no_out['final'],\n",
    "            y=exams_pred_df_no_out['predicted'],\n",
    "            kind='line').set(title='Predicted scores');"
   ]
  },
  {
   "cell_type": "code",
   "execution_count": null,
   "id": "707baa24",
   "metadata": {},
   "outputs": [],
   "source": []
  }
 ],
 "metadata": {
  "kernelspec": {
   "display_name": "Python 3",
   "language": "python",
   "name": "python3"
  },
  "language_info": {
   "codemirror_mode": {
    "name": "ipython",
    "version": 3
   },
   "file_extension": ".py",
   "mimetype": "text/x-python",
   "name": "python",
   "nbconvert_exporter": "python",
   "pygments_lexer": "ipython3",
   "version": "3.8.8"
  }
 },
 "nbformat": 4,
 "nbformat_minor": 5
}
