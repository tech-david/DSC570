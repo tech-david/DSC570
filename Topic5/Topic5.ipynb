{
 "cells": [
  {
   "cell_type": "code",
   "execution_count": 1,
   "id": "c6dd7421",
   "metadata": {},
   "outputs": [
    {
     "name": "stderr",
     "output_type": "stream",
     "text": [
      "C:\\Users\\David\\anaconda3\\lib\\site-packages\\statsmodels\\tsa\\base\\tsa_model.py:7: FutureWarning: pandas.Int64Index is deprecated and will be removed from pandas in a future version. Use pandas.Index with the appropriate dtype instead.\n",
      "  from pandas import (to_datetime, Int64Index, DatetimeIndex, Period,\n",
      "C:\\Users\\David\\anaconda3\\lib\\site-packages\\statsmodels\\tsa\\base\\tsa_model.py:7: FutureWarning: pandas.Float64Index is deprecated and will be removed from pandas in a future version. Use pandas.Index with the appropriate dtype instead.\n",
      "  from pandas import (to_datetime, Int64Index, DatetimeIndex, Period,\n"
     ]
    }
   ],
   "source": [
    "import pandas as pd\n",
    "import numpy as np\n",
    "import seaborn as sns\n",
    "import matplotlib.pyplot as plt\n",
    "import datetime as dt\n",
    "from pandas.plotting import lag_plot\n",
    "from pandas.plotting import autocorrelation_plot\n",
    "from statsmodels.graphics.tsaplots import plot_acf, plot_pacf\n",
    "from pandas.plotting import scatter_matrix\n",
    "import statsmodels.api as sm\n",
    "from sklearn import preprocessing\n",
    "from sklearn.preprocessing import MinMaxScaler\n",
    "from sklearn.model_selection import train_test_split\n",
    "from sklearn.linear_model import LinearRegression\n",
    "from sklearn import metrics\n",
    "from scipy.signal import argrelextrema\n",
    "import warnings\n",
    "warnings.filterwarnings(\"ignore\")"
   ]
  },
  {
   "cell_type": "code",
   "execution_count": 2,
   "id": "b2bee9e3",
   "metadata": {},
   "outputs": [],
   "source": [
    "data = pd.read_csv(\"household_power_consumption.txt\",\n",
    "                  sep=';',\n",
    "                  index_col=False)"
   ]
  },
  {
   "cell_type": "code",
   "execution_count": 3,
   "id": "4211d64d",
   "metadata": {},
   "outputs": [],
   "source": [
    "cols = data.columns.drop(['Date', 'Time'])\n",
    "data[cols] = data[cols].apply(pd.to_numeric,\n",
    "                              errors='coerce')\n",
    "data['Date'] = pd.to_datetime(data['Date'],\n",
    "                             format='%d/%m/%Y')\n",
    "data['Time'] = pd.to_datetime(data['Time'],\n",
    "                             format='%H:%M:%S').dt.time\n"
   ]
  },
  {
   "cell_type": "code",
   "execution_count": 4,
   "id": "b05ada6b",
   "metadata": {},
   "outputs": [],
   "source": [
    "def time_convert(x):\n",
    "    h = x.hour\n",
    "    m = x.minute\n",
    "    s = x.second\n",
    "    return (h*60+m)*60+s\n"
   ]
  },
  {
   "cell_type": "code",
   "execution_count": 5,
   "id": "2649d57e",
   "metadata": {},
   "outputs": [],
   "source": [
    "data['Seconds'] = data['Time'].apply(time_convert)"
   ]
  },
  {
   "cell_type": "code",
   "execution_count": 9,
   "id": "d649311e",
   "metadata": {},
   "outputs": [],
   "source": [
    "data = data.fillna(0)"
   ]
  },
  {
   "cell_type": "code",
   "execution_count": 12,
   "id": "3403f357",
   "metadata": {},
   "outputs": [],
   "source": [
    "data['Weekday'] = data['Date'].dt.dayofweek"
   ]
  },
  {
   "cell_type": "code",
   "execution_count": 13,
   "id": "d30bcc4e",
   "metadata": {},
   "outputs": [
    {
     "data": {
      "text/html": [
       "<div>\n",
       "<style scoped>\n",
       "    .dataframe tbody tr th:only-of-type {\n",
       "        vertical-align: middle;\n",
       "    }\n",
       "\n",
       "    .dataframe tbody tr th {\n",
       "        vertical-align: top;\n",
       "    }\n",
       "\n",
       "    .dataframe thead th {\n",
       "        text-align: right;\n",
       "    }\n",
       "</style>\n",
       "<table border=\"1\" class=\"dataframe\">\n",
       "  <thead>\n",
       "    <tr style=\"text-align: right;\">\n",
       "      <th></th>\n",
       "      <th>Date</th>\n",
       "      <th>Time</th>\n",
       "      <th>Global_active_power</th>\n",
       "      <th>Global_reactive_power</th>\n",
       "      <th>Voltage</th>\n",
       "      <th>Global_intensity</th>\n",
       "      <th>Sub_metering_1</th>\n",
       "      <th>Sub_metering_2</th>\n",
       "      <th>Sub_metering_3</th>\n",
       "      <th>Seconds</th>\n",
       "      <th>Weekday</th>\n",
       "    </tr>\n",
       "  </thead>\n",
       "  <tbody>\n",
       "    <tr>\n",
       "      <th>0</th>\n",
       "      <td>2006-12-16</td>\n",
       "      <td>17:24:00</td>\n",
       "      <td>4.216</td>\n",
       "      <td>0.418</td>\n",
       "      <td>234.84</td>\n",
       "      <td>18.4</td>\n",
       "      <td>0.0</td>\n",
       "      <td>1.0</td>\n",
       "      <td>17.0</td>\n",
       "      <td>62640</td>\n",
       "      <td>5</td>\n",
       "    </tr>\n",
       "    <tr>\n",
       "      <th>1</th>\n",
       "      <td>2006-12-16</td>\n",
       "      <td>17:25:00</td>\n",
       "      <td>5.360</td>\n",
       "      <td>0.436</td>\n",
       "      <td>233.63</td>\n",
       "      <td>23.0</td>\n",
       "      <td>0.0</td>\n",
       "      <td>1.0</td>\n",
       "      <td>16.0</td>\n",
       "      <td>62700</td>\n",
       "      <td>5</td>\n",
       "    </tr>\n",
       "    <tr>\n",
       "      <th>2</th>\n",
       "      <td>2006-12-16</td>\n",
       "      <td>17:26:00</td>\n",
       "      <td>5.374</td>\n",
       "      <td>0.498</td>\n",
       "      <td>233.29</td>\n",
       "      <td>23.0</td>\n",
       "      <td>0.0</td>\n",
       "      <td>2.0</td>\n",
       "      <td>17.0</td>\n",
       "      <td>62760</td>\n",
       "      <td>5</td>\n",
       "    </tr>\n",
       "    <tr>\n",
       "      <th>3</th>\n",
       "      <td>2006-12-16</td>\n",
       "      <td>17:27:00</td>\n",
       "      <td>5.388</td>\n",
       "      <td>0.502</td>\n",
       "      <td>233.74</td>\n",
       "      <td>23.0</td>\n",
       "      <td>0.0</td>\n",
       "      <td>1.0</td>\n",
       "      <td>17.0</td>\n",
       "      <td>62820</td>\n",
       "      <td>5</td>\n",
       "    </tr>\n",
       "    <tr>\n",
       "      <th>4</th>\n",
       "      <td>2006-12-16</td>\n",
       "      <td>17:28:00</td>\n",
       "      <td>3.666</td>\n",
       "      <td>0.528</td>\n",
       "      <td>235.68</td>\n",
       "      <td>15.8</td>\n",
       "      <td>0.0</td>\n",
       "      <td>1.0</td>\n",
       "      <td>17.0</td>\n",
       "      <td>62880</td>\n",
       "      <td>5</td>\n",
       "    </tr>\n",
       "    <tr>\n",
       "      <th>...</th>\n",
       "      <td>...</td>\n",
       "      <td>...</td>\n",
       "      <td>...</td>\n",
       "      <td>...</td>\n",
       "      <td>...</td>\n",
       "      <td>...</td>\n",
       "      <td>...</td>\n",
       "      <td>...</td>\n",
       "      <td>...</td>\n",
       "      <td>...</td>\n",
       "      <td>...</td>\n",
       "    </tr>\n",
       "    <tr>\n",
       "      <th>2075254</th>\n",
       "      <td>2010-11-26</td>\n",
       "      <td>20:58:00</td>\n",
       "      <td>0.946</td>\n",
       "      <td>0.000</td>\n",
       "      <td>240.43</td>\n",
       "      <td>4.0</td>\n",
       "      <td>0.0</td>\n",
       "      <td>0.0</td>\n",
       "      <td>0.0</td>\n",
       "      <td>75480</td>\n",
       "      <td>4</td>\n",
       "    </tr>\n",
       "    <tr>\n",
       "      <th>2075255</th>\n",
       "      <td>2010-11-26</td>\n",
       "      <td>20:59:00</td>\n",
       "      <td>0.944</td>\n",
       "      <td>0.000</td>\n",
       "      <td>240.00</td>\n",
       "      <td>4.0</td>\n",
       "      <td>0.0</td>\n",
       "      <td>0.0</td>\n",
       "      <td>0.0</td>\n",
       "      <td>75540</td>\n",
       "      <td>4</td>\n",
       "    </tr>\n",
       "    <tr>\n",
       "      <th>2075256</th>\n",
       "      <td>2010-11-26</td>\n",
       "      <td>21:00:00</td>\n",
       "      <td>0.938</td>\n",
       "      <td>0.000</td>\n",
       "      <td>239.82</td>\n",
       "      <td>3.8</td>\n",
       "      <td>0.0</td>\n",
       "      <td>0.0</td>\n",
       "      <td>0.0</td>\n",
       "      <td>75600</td>\n",
       "      <td>4</td>\n",
       "    </tr>\n",
       "    <tr>\n",
       "      <th>2075257</th>\n",
       "      <td>2010-11-26</td>\n",
       "      <td>21:01:00</td>\n",
       "      <td>0.934</td>\n",
       "      <td>0.000</td>\n",
       "      <td>239.70</td>\n",
       "      <td>3.8</td>\n",
       "      <td>0.0</td>\n",
       "      <td>0.0</td>\n",
       "      <td>0.0</td>\n",
       "      <td>75660</td>\n",
       "      <td>4</td>\n",
       "    </tr>\n",
       "    <tr>\n",
       "      <th>2075258</th>\n",
       "      <td>2010-11-26</td>\n",
       "      <td>21:02:00</td>\n",
       "      <td>0.932</td>\n",
       "      <td>0.000</td>\n",
       "      <td>239.55</td>\n",
       "      <td>3.8</td>\n",
       "      <td>0.0</td>\n",
       "      <td>0.0</td>\n",
       "      <td>0.0</td>\n",
       "      <td>75720</td>\n",
       "      <td>4</td>\n",
       "    </tr>\n",
       "  </tbody>\n",
       "</table>\n",
       "<p>2075259 rows × 11 columns</p>\n",
       "</div>"
      ],
      "text/plain": [
       "              Date      Time  Global_active_power  Global_reactive_power  \\\n",
       "0       2006-12-16  17:24:00                4.216                  0.418   \n",
       "1       2006-12-16  17:25:00                5.360                  0.436   \n",
       "2       2006-12-16  17:26:00                5.374                  0.498   \n",
       "3       2006-12-16  17:27:00                5.388                  0.502   \n",
       "4       2006-12-16  17:28:00                3.666                  0.528   \n",
       "...            ...       ...                  ...                    ...   \n",
       "2075254 2010-11-26  20:58:00                0.946                  0.000   \n",
       "2075255 2010-11-26  20:59:00                0.944                  0.000   \n",
       "2075256 2010-11-26  21:00:00                0.938                  0.000   \n",
       "2075257 2010-11-26  21:01:00                0.934                  0.000   \n",
       "2075258 2010-11-26  21:02:00                0.932                  0.000   \n",
       "\n",
       "         Voltage  Global_intensity  Sub_metering_1  Sub_metering_2  \\\n",
       "0         234.84              18.4             0.0             1.0   \n",
       "1         233.63              23.0             0.0             1.0   \n",
       "2         233.29              23.0             0.0             2.0   \n",
       "3         233.74              23.0             0.0             1.0   \n",
       "4         235.68              15.8             0.0             1.0   \n",
       "...          ...               ...             ...             ...   \n",
       "2075254   240.43               4.0             0.0             0.0   \n",
       "2075255   240.00               4.0             0.0             0.0   \n",
       "2075256   239.82               3.8             0.0             0.0   \n",
       "2075257   239.70               3.8             0.0             0.0   \n",
       "2075258   239.55               3.8             0.0             0.0   \n",
       "\n",
       "         Sub_metering_3  Seconds  Weekday  \n",
       "0                  17.0    62640        5  \n",
       "1                  16.0    62700        5  \n",
       "2                  17.0    62760        5  \n",
       "3                  17.0    62820        5  \n",
       "4                  17.0    62880        5  \n",
       "...                 ...      ...      ...  \n",
       "2075254             0.0    75480        4  \n",
       "2075255             0.0    75540        4  \n",
       "2075256             0.0    75600        4  \n",
       "2075257             0.0    75660        4  \n",
       "2075258             0.0    75720        4  \n",
       "\n",
       "[2075259 rows x 11 columns]"
      ]
     },
     "execution_count": 13,
     "metadata": {},
     "output_type": "execute_result"
    }
   ],
   "source": [
    "data"
   ]
  },
  {
   "cell_type": "code",
   "execution_count": 14,
   "id": "c46d5f19",
   "metadata": {},
   "outputs": [],
   "source": [
    "friday_data = data.loc[data['Weekday'] == 4]"
   ]
  },
  {
   "cell_type": "code",
   "execution_count": 15,
   "id": "4d3d95fb",
   "metadata": {},
   "outputs": [
    {
     "data": {
      "text/html": [
       "<div>\n",
       "<style scoped>\n",
       "    .dataframe tbody tr th:only-of-type {\n",
       "        vertical-align: middle;\n",
       "    }\n",
       "\n",
       "    .dataframe tbody tr th {\n",
       "        vertical-align: top;\n",
       "    }\n",
       "\n",
       "    .dataframe thead th {\n",
       "        text-align: right;\n",
       "    }\n",
       "</style>\n",
       "<table border=\"1\" class=\"dataframe\">\n",
       "  <thead>\n",
       "    <tr style=\"text-align: right;\">\n",
       "      <th></th>\n",
       "      <th>Date</th>\n",
       "      <th>Time</th>\n",
       "      <th>Global_active_power</th>\n",
       "      <th>Global_reactive_power</th>\n",
       "      <th>Voltage</th>\n",
       "      <th>Global_intensity</th>\n",
       "      <th>Sub_metering_1</th>\n",
       "      <th>Sub_metering_2</th>\n",
       "      <th>Sub_metering_3</th>\n",
       "      <th>Seconds</th>\n",
       "      <th>Weekday</th>\n",
       "    </tr>\n",
       "  </thead>\n",
       "  <tbody>\n",
       "    <tr>\n",
       "      <th>7596</th>\n",
       "      <td>2006-12-22</td>\n",
       "      <td>00:00:00</td>\n",
       "      <td>0.206</td>\n",
       "      <td>0.000</td>\n",
       "      <td>245.70</td>\n",
       "      <td>0.8</td>\n",
       "      <td>0.0</td>\n",
       "      <td>0.0</td>\n",
       "      <td>0.0</td>\n",
       "      <td>0</td>\n",
       "      <td>4</td>\n",
       "    </tr>\n",
       "    <tr>\n",
       "      <th>7597</th>\n",
       "      <td>2006-12-22</td>\n",
       "      <td>00:01:00</td>\n",
       "      <td>0.206</td>\n",
       "      <td>0.000</td>\n",
       "      <td>246.18</td>\n",
       "      <td>0.8</td>\n",
       "      <td>0.0</td>\n",
       "      <td>0.0</td>\n",
       "      <td>0.0</td>\n",
       "      <td>60</td>\n",
       "      <td>4</td>\n",
       "    </tr>\n",
       "    <tr>\n",
       "      <th>7598</th>\n",
       "      <td>2006-12-22</td>\n",
       "      <td>00:02:00</td>\n",
       "      <td>0.328</td>\n",
       "      <td>0.130</td>\n",
       "      <td>245.61</td>\n",
       "      <td>1.4</td>\n",
       "      <td>0.0</td>\n",
       "      <td>0.0</td>\n",
       "      <td>0.0</td>\n",
       "      <td>120</td>\n",
       "      <td>4</td>\n",
       "    </tr>\n",
       "    <tr>\n",
       "      <th>7599</th>\n",
       "      <td>2006-12-22</td>\n",
       "      <td>00:03:00</td>\n",
       "      <td>0.314</td>\n",
       "      <td>0.128</td>\n",
       "      <td>244.63</td>\n",
       "      <td>1.4</td>\n",
       "      <td>0.0</td>\n",
       "      <td>0.0</td>\n",
       "      <td>0.0</td>\n",
       "      <td>180</td>\n",
       "      <td>4</td>\n",
       "    </tr>\n",
       "    <tr>\n",
       "      <th>7600</th>\n",
       "      <td>2006-12-22</td>\n",
       "      <td>00:04:00</td>\n",
       "      <td>0.310</td>\n",
       "      <td>0.128</td>\n",
       "      <td>244.51</td>\n",
       "      <td>1.4</td>\n",
       "      <td>0.0</td>\n",
       "      <td>0.0</td>\n",
       "      <td>0.0</td>\n",
       "      <td>240</td>\n",
       "      <td>4</td>\n",
       "    </tr>\n",
       "    <tr>\n",
       "      <th>...</th>\n",
       "      <td>...</td>\n",
       "      <td>...</td>\n",
       "      <td>...</td>\n",
       "      <td>...</td>\n",
       "      <td>...</td>\n",
       "      <td>...</td>\n",
       "      <td>...</td>\n",
       "      <td>...</td>\n",
       "      <td>...</td>\n",
       "      <td>...</td>\n",
       "      <td>...</td>\n",
       "    </tr>\n",
       "    <tr>\n",
       "      <th>2075254</th>\n",
       "      <td>2010-11-26</td>\n",
       "      <td>20:58:00</td>\n",
       "      <td>0.946</td>\n",
       "      <td>0.000</td>\n",
       "      <td>240.43</td>\n",
       "      <td>4.0</td>\n",
       "      <td>0.0</td>\n",
       "      <td>0.0</td>\n",
       "      <td>0.0</td>\n",
       "      <td>75480</td>\n",
       "      <td>4</td>\n",
       "    </tr>\n",
       "    <tr>\n",
       "      <th>2075255</th>\n",
       "      <td>2010-11-26</td>\n",
       "      <td>20:59:00</td>\n",
       "      <td>0.944</td>\n",
       "      <td>0.000</td>\n",
       "      <td>240.00</td>\n",
       "      <td>4.0</td>\n",
       "      <td>0.0</td>\n",
       "      <td>0.0</td>\n",
       "      <td>0.0</td>\n",
       "      <td>75540</td>\n",
       "      <td>4</td>\n",
       "    </tr>\n",
       "    <tr>\n",
       "      <th>2075256</th>\n",
       "      <td>2010-11-26</td>\n",
       "      <td>21:00:00</td>\n",
       "      <td>0.938</td>\n",
       "      <td>0.000</td>\n",
       "      <td>239.82</td>\n",
       "      <td>3.8</td>\n",
       "      <td>0.0</td>\n",
       "      <td>0.0</td>\n",
       "      <td>0.0</td>\n",
       "      <td>75600</td>\n",
       "      <td>4</td>\n",
       "    </tr>\n",
       "    <tr>\n",
       "      <th>2075257</th>\n",
       "      <td>2010-11-26</td>\n",
       "      <td>21:01:00</td>\n",
       "      <td>0.934</td>\n",
       "      <td>0.000</td>\n",
       "      <td>239.70</td>\n",
       "      <td>3.8</td>\n",
       "      <td>0.0</td>\n",
       "      <td>0.0</td>\n",
       "      <td>0.0</td>\n",
       "      <td>75660</td>\n",
       "      <td>4</td>\n",
       "    </tr>\n",
       "    <tr>\n",
       "      <th>2075258</th>\n",
       "      <td>2010-11-26</td>\n",
       "      <td>21:02:00</td>\n",
       "      <td>0.932</td>\n",
       "      <td>0.000</td>\n",
       "      <td>239.55</td>\n",
       "      <td>3.8</td>\n",
       "      <td>0.0</td>\n",
       "      <td>0.0</td>\n",
       "      <td>0.0</td>\n",
       "      <td>75720</td>\n",
       "      <td>4</td>\n",
       "    </tr>\n",
       "  </tbody>\n",
       "</table>\n",
       "<p>296463 rows × 11 columns</p>\n",
       "</div>"
      ],
      "text/plain": [
       "              Date      Time  Global_active_power  Global_reactive_power  \\\n",
       "7596    2006-12-22  00:00:00                0.206                  0.000   \n",
       "7597    2006-12-22  00:01:00                0.206                  0.000   \n",
       "7598    2006-12-22  00:02:00                0.328                  0.130   \n",
       "7599    2006-12-22  00:03:00                0.314                  0.128   \n",
       "7600    2006-12-22  00:04:00                0.310                  0.128   \n",
       "...            ...       ...                  ...                    ...   \n",
       "2075254 2010-11-26  20:58:00                0.946                  0.000   \n",
       "2075255 2010-11-26  20:59:00                0.944                  0.000   \n",
       "2075256 2010-11-26  21:00:00                0.938                  0.000   \n",
       "2075257 2010-11-26  21:01:00                0.934                  0.000   \n",
       "2075258 2010-11-26  21:02:00                0.932                  0.000   \n",
       "\n",
       "         Voltage  Global_intensity  Sub_metering_1  Sub_metering_2  \\\n",
       "7596      245.70               0.8             0.0             0.0   \n",
       "7597      246.18               0.8             0.0             0.0   \n",
       "7598      245.61               1.4             0.0             0.0   \n",
       "7599      244.63               1.4             0.0             0.0   \n",
       "7600      244.51               1.4             0.0             0.0   \n",
       "...          ...               ...             ...             ...   \n",
       "2075254   240.43               4.0             0.0             0.0   \n",
       "2075255   240.00               4.0             0.0             0.0   \n",
       "2075256   239.82               3.8             0.0             0.0   \n",
       "2075257   239.70               3.8             0.0             0.0   \n",
       "2075258   239.55               3.8             0.0             0.0   \n",
       "\n",
       "         Sub_metering_3  Seconds  Weekday  \n",
       "7596                0.0        0        4  \n",
       "7597                0.0       60        4  \n",
       "7598                0.0      120        4  \n",
       "7599                0.0      180        4  \n",
       "7600                0.0      240        4  \n",
       "...                 ...      ...      ...  \n",
       "2075254             0.0    75480        4  \n",
       "2075255             0.0    75540        4  \n",
       "2075256             0.0    75600        4  \n",
       "2075257             0.0    75660        4  \n",
       "2075258             0.0    75720        4  \n",
       "\n",
       "[296463 rows x 11 columns]"
      ]
     },
     "execution_count": 15,
     "metadata": {},
     "output_type": "execute_result"
    }
   ],
   "source": [
    "friday_data"
   ]
  },
  {
   "cell_type": "code",
   "execution_count": null,
   "id": "896ae294",
   "metadata": {},
   "outputs": [],
   "source": [
    "sns.set_theme(style='darkgrid')"
   ]
  },
  {
   "cell_type": "code",
   "execution_count": null,
   "id": "1a17255a",
   "metadata": {},
   "outputs": [],
   "source": [
    "sns.set(rc={'figure.figsize':(24,10)})"
   ]
  },
  {
   "cell_type": "code",
   "execution_count": null,
   "id": "ee9a1c73",
   "metadata": {},
   "outputs": [],
   "source": [
    "friday_dec_22 = friday_data.loc[friday_data['Date']=='2006-12-22']"
   ]
  },
  {
   "cell_type": "code",
   "execution_count": null,
   "id": "3a0f3ecd",
   "metadata": {},
   "outputs": [],
   "source": [
    "sns.lineplot(data=friday_dec_22,\n",
    "            x='Seconds',\n",
    "            y='Voltage')"
   ]
  },
  {
   "cell_type": "code",
   "execution_count": null,
   "id": "ea8c23bf",
   "metadata": {},
   "outputs": [],
   "source": [
    "sns.lineplot(data=friday_dec_22,\n",
    "            x='Seconds',\n",
    "            y='Global_active_power')"
   ]
  },
  {
   "cell_type": "code",
   "execution_count": null,
   "id": "cbec140c",
   "metadata": {},
   "outputs": [],
   "source": [
    "sns.lineplot(data=friday_dec_22,\n",
    "            x='Seconds',\n",
    "            y='Global_reactive_power')"
   ]
  },
  {
   "cell_type": "code",
   "execution_count": null,
   "id": "4fd02838",
   "metadata": {},
   "outputs": [],
   "source": [
    "sns.lineplot(data=friday_dec_22,\n",
    "            x='Seconds',\n",
    "            y='Global_intensity')"
   ]
  },
  {
   "cell_type": "code",
   "execution_count": null,
   "id": "30043f79",
   "metadata": {},
   "outputs": [],
   "source": [
    "plt.figure(figsize=(20,10))\n",
    "sns.relplot(data=friday_dec_22,\n",
    "           x='Seconds',\n",
    "           y='Global_intensity',\n",
    "           col='Sub_metering_1',\n",
    "           kind='line')"
   ]
  },
  {
   "cell_type": "code",
   "execution_count": null,
   "id": "e37ab915",
   "metadata": {},
   "outputs": [],
   "source": [
    "plt.figure(figsize=(20,10))\n",
    "sns.relplot(data=friday_dec_22,\n",
    "           x='Seconds',\n",
    "           y='Global_intensity',\n",
    "           col='Sub_metering_2',\n",
    "           kind='line')"
   ]
  },
  {
   "cell_type": "code",
   "execution_count": null,
   "id": "3938002f",
   "metadata": {},
   "outputs": [],
   "source": [
    "plt.figure(figsize=(20,10))\n",
    "sns.relplot(data=friday_dec_22,\n",
    "           x='Seconds',\n",
    "           y='Global_intensity',\n",
    "           col='Sub_metering_3',\n",
    "           kind='line')"
   ]
  },
  {
   "cell_type": "code",
   "execution_count": null,
   "id": "df4789b5",
   "metadata": {},
   "outputs": [],
   "source": [
    "lag_plot(friday_dec_22['Global_intensity'])"
   ]
  },
  {
   "cell_type": "code",
   "execution_count": null,
   "id": "55a708bd",
   "metadata": {},
   "outputs": [],
   "source": [
    "plt.clf()\n",
    "fig, ax = plt.subplots(figsize=(15, 5))\n",
    "autocorrelation_plot(friday_dec_22['Global_intensity'], ax=ax)"
   ]
  },
  {
   "cell_type": "code",
   "execution_count": null,
   "id": "c0874e6f",
   "metadata": {},
   "outputs": [],
   "source": [
    "plt.clf()\n",
    "fig, ax = plt.subplots(figsize=(15, 10))\n",
    "plot_acf(friday_dec_22['Global_intensity'], lags=1200, use_vlines=False, ax=ax)"
   ]
  },
  {
   "cell_type": "code",
   "execution_count": null,
   "id": "816c9101",
   "metadata": {},
   "outputs": [],
   "source": [
    "subset = friday_dec_22[['Global_intensity','Sub_metering_1','Sub_metering_2','Sub_metering_3']]\n",
    "scatter_matrix(subset, figsize=(10,10), diagonal='hist')"
   ]
  },
  {
   "cell_type": "code",
   "execution_count": null,
   "id": "9f3c52e3",
   "metadata": {},
   "outputs": [],
   "source": [
    "friday_dec_22_16to22 = friday_dec_22.loc[(friday_dec_22['Seconds'] >= 57600) & (friday_dec_22['Seconds'] <= 79200)]"
   ]
  },
  {
   "cell_type": "code",
   "execution_count": null,
   "id": "82504daf",
   "metadata": {},
   "outputs": [],
   "source": [
    "friday_dec_22_16to22"
   ]
  },
  {
   "cell_type": "code",
   "execution_count": null,
   "id": "bca068b7",
   "metadata": {},
   "outputs": [],
   "source": [
    "subset = friday_dec_22_16to22[['Global_intensity','Sub_metering_1','Sub_metering_2','Sub_metering_3']]\n",
    "scatter_matrix(subset, figsize=(10,10), diagonal='hist')"
   ]
  },
  {
   "cell_type": "code",
   "execution_count": null,
   "id": "00ce2793",
   "metadata": {},
   "outputs": [],
   "source": [
    "sns.lineplot(data=friday_dec_22_16to22,\n",
    "            x='Seconds',\n",
    "            y='Global_intensity')"
   ]
  },
  {
   "cell_type": "code",
   "execution_count": null,
   "id": "5e2e963c",
   "metadata": {},
   "outputs": [],
   "source": [
    "subset = friday_dec_22_16to22[['Global_intensity','Global_active_power','Global_reactive_power','Voltage']]\n",
    "scatter_matrix(subset, figsize=(10,10), diagonal='hist')"
   ]
  },
  {
   "cell_type": "code",
   "execution_count": null,
   "id": "568774db",
   "metadata": {},
   "outputs": [],
   "source": [
    "friday_dec_22_16to22[['Global_intensity','Global_active_power']].plot()"
   ]
  },
  {
   "cell_type": "code",
   "execution_count": null,
   "id": "3d44f512",
   "metadata": {},
   "outputs": [],
   "source": [
    "friday_dec_22_16to22[['Global_intensity','Voltage']].plot()"
   ]
  },
  {
   "cell_type": "code",
   "execution_count": null,
   "id": "44e359f4",
   "metadata": {},
   "outputs": [],
   "source": [
    "friday_dec_22_16to22[['Global_intensity','Sub_metering_1','Sub_metering_2','Sub_metering_3']].plot()"
   ]
  },
  {
   "cell_type": "code",
   "execution_count": null,
   "id": "5f73140e",
   "metadata": {},
   "outputs": [],
   "source": [
    "friday_dec_22_16to22[['Global_intensity','Global_reactive_power']].plot()"
   ]
  },
  {
   "cell_type": "code",
   "execution_count": null,
   "id": "21a67883",
   "metadata": {},
   "outputs": [],
   "source": [
    "trend_dict = {}\n",
    "tdi = pd.DatetimeIndex(friday_dec_22_16to22.Date)\n",
    "friday_dec_22_16to22.set_index(tdi, inplace=True)\n",
    "friday_dec_22_16to22.drop(columns='Date', inplace=True)\n",
    "friday_dec_22_16to22.index.name = 'datetimeindex'\n"
   ]
  },
  {
   "cell_type": "code",
   "execution_count": null,
   "id": "6b5b6fb3",
   "metadata": {},
   "outputs": [],
   "source": [
    "friday_dec_22_16to22.drop(columns=['Time'], inplace=True)"
   ]
  },
  {
   "cell_type": "code",
   "execution_count": null,
   "id": "ffd83e81",
   "metadata": {},
   "outputs": [],
   "source": [
    "tdi = pd.DatetimeIndex(friday_dec_22_16to22.Seconds)\n",
    "friday_dec_22_16to22.set_index(tdi, inplace=True)\n",
    "friday_dec_22_16to22.drop(columns='Seconds', inplace=True)\n",
    "friday_dec_22_16to22.index.name = 'datetimeindex'"
   ]
  },
  {
   "cell_type": "code",
   "execution_count": null,
   "id": "f8028610",
   "metadata": {},
   "outputs": [],
   "source": [
    "# friday_dec_22_16to22.set_index(friday_dec_22_16to22.Seconds, inplace=True)\n",
    "# friday_dec_22_16to22['Seconds'] = friday_dec_22_16to22[['Seconds']]\n",
    "for ts in friday_dec_22_16to22.columns:\n",
    "    \n",
    "    decomposition = sm.tsa.seasonal_decompose(friday_dec_22_16to22[ts].dropna(),\n",
    "                                             period=180)\n",
    "    # Store back the results\n",
    "    trend_dict[ts] = decomposition.trend\n",
    "\n",
    "pd.DataFrame(trend_dict).plot(subplots=True, layout=(4, 3), linewidth=3);"
   ]
  },
  {
   "cell_type": "code",
   "execution_count": null,
   "id": "2c6c9e0a",
   "metadata": {},
   "outputs": [],
   "source": [
    "friday_dec_22_16to22.dtypes"
   ]
  },
  {
   "cell_type": "code",
   "execution_count": null,
   "id": "6c073bc9",
   "metadata": {},
   "outputs": [],
   "source": [
    "friday_dec_22_16to22"
   ]
  },
  {
   "cell_type": "code",
   "execution_count": null,
   "id": "238e2c4b",
   "metadata": {},
   "outputs": [],
   "source": [
    "friday_dec_22_16to22.strftime()"
   ]
  },
  {
   "cell_type": "code",
   "execution_count": null,
   "id": "40e16ed3",
   "metadata": {},
   "outputs": [],
   "source": [
    "df_friday_dec_22_16to22 = friday_dec_22.loc[(friday_dec_22['Seconds'] >= 57600) & (friday_dec_22['Seconds'] <= 79200)]"
   ]
  },
  {
   "cell_type": "code",
   "execution_count": null,
   "id": "5c14ecb1",
   "metadata": {},
   "outputs": [],
   "source": [
    "df_friday_dec_22 = friday_dec_22"
   ]
  },
  {
   "cell_type": "code",
   "execution_count": null,
   "id": "7b2d2cbd",
   "metadata": {},
   "outputs": [],
   "source": [
    "df_friday_dec_22"
   ]
  },
  {
   "cell_type": "code",
   "execution_count": null,
   "id": "8c86d737",
   "metadata": {},
   "outputs": [],
   "source": [
    "df_friday_dec_22['Sub_metering_3'].plot(kind='box')"
   ]
  },
  {
   "cell_type": "code",
   "execution_count": null,
   "id": "b92bc888",
   "metadata": {},
   "outputs": [],
   "source": [
    "X"
   ]
  },
  {
   "cell_type": "code",
   "execution_count": null,
   "id": "416fef84",
   "metadata": {},
   "outputs": [],
   "source": [
    "X = df_friday_dec_22.iloc[:,0:6]"
   ]
  },
  {
   "cell_type": "code",
   "execution_count": null,
   "id": "365deb69",
   "metadata": {},
   "outputs": [],
   "source": [
    "scaler = MinMaxScaler()"
   ]
  },
  {
   "cell_type": "code",
   "execution_count": null,
   "id": "25a2fe04",
   "metadata": {},
   "outputs": [],
   "source": [
    "data_scaled = scaler.fit_transform(df_friday_dec_22.iloc[:,0:6])"
   ]
  },
  {
   "cell_type": "code",
   "execution_count": null,
   "id": "20e690a1",
   "metadata": {},
   "outputs": [],
   "source": [
    "data_scaled"
   ]
  },
  {
   "cell_type": "code",
   "execution_count": null,
   "id": "966037cd",
   "metadata": {},
   "outputs": [],
   "source": [
    "X[:,0].shape"
   ]
  },
  {
   "cell_type": "code",
   "execution_count": null,
   "id": "f497a801",
   "metadata": {},
   "outputs": [],
   "source": [
    "df_friday_dec_22_scaled = df_friday_dec_22"
   ]
  },
  {
   "cell_type": "code",
   "execution_count": null,
   "id": "4943a4e7",
   "metadata": {},
   "outputs": [],
   "source": [
    "df_friday_dec_22_scaled = df_friday_dec_22_scaled.assign(Global_active_power=data_scaled[:,0])\n",
    "df_friday_dec_22_scaled = df_friday_dec_22_scaled.assign(Global_reactive_power=data_scaled[:,1])\n",
    "df_friday_dec_22_scaled = df_friday_dec_22_scaled.assign(Global_intensity=data_scaled[:,2])\n",
    "df_friday_dec_22_scaled = df_friday_dec_22_scaled.assign(Sub_metering_1=data_scaled[:,3])\n",
    "df_friday_dec_22_scaled = df_friday_dec_22_scaled.assign(Sub_metering_2=data_scaled[:,4])\n",
    "df_friday_dec_22_scaled = df_friday_dec_22_scaled.assign(Sub_metering_3=data_scaled[:,5])"
   ]
  },
  {
   "cell_type": "code",
   "execution_count": null,
   "id": "c6f647c8",
   "metadata": {},
   "outputs": [],
   "source": [
    "df_friday_dec_22_scaled"
   ]
  },
  {
   "cell_type": "code",
   "execution_count": null,
   "id": "a4215900",
   "metadata": {},
   "outputs": [],
   "source": [
    "df_friday_dec_22_scaled.describe()"
   ]
  },
  {
   "cell_type": "code",
   "execution_count": null,
   "id": "04a7c0a0",
   "metadata": {},
   "outputs": [],
   "source": [
    "df_friday_dec_22.describe()"
   ]
  },
  {
   "cell_type": "code",
   "execution_count": null,
   "id": "8d6851d9",
   "metadata": {},
   "outputs": [],
   "source": [
    "X = df_friday_dec_22_scaled.drop(columns=['Global_intensity'])\n",
    "y = df_friday_dec_22_scaled[['Global_intensity']]"
   ]
  },
  {
   "cell_type": "code",
   "execution_count": null,
   "id": "f8677cb0",
   "metadata": {},
   "outputs": [],
   "source": [
    "X"
   ]
  },
  {
   "cell_type": "code",
   "execution_count": null,
   "id": "bbd1ca97",
   "metadata": {},
   "outputs": [],
   "source": [
    "y"
   ]
  },
  {
   "cell_type": "code",
   "execution_count": null,
   "id": "f10acbf4",
   "metadata": {},
   "outputs": [],
   "source": [
    "X_train, X_test, y_train, y_test = train_test_split(X,\n",
    "                                                   y,\n",
    "                                                   test_size=0.25,\n",
    "                                                   random_state=42)"
   ]
  },
  {
   "cell_type": "code",
   "execution_count": null,
   "id": "f3ebb247",
   "metadata": {},
   "outputs": [],
   "source": [
    "X_test"
   ]
  },
  {
   "cell_type": "code",
   "execution_count": null,
   "id": "4e150fd3",
   "metadata": {},
   "outputs": [],
   "source": [
    "X_train"
   ]
  },
  {
   "cell_type": "code",
   "execution_count": null,
   "id": "5618ac06",
   "metadata": {},
   "outputs": [],
   "source": [
    "exclude = ['Seconds']\n",
    "X.loc[:, X.columns.difference(exclude)].plot()"
   ]
  },
  {
   "cell_type": "code",
   "execution_count": null,
   "id": "e1e248c4",
   "metadata": {},
   "outputs": [],
   "source": [
    "y.plot()"
   ]
  },
  {
   "cell_type": "code",
   "execution_count": null,
   "id": "fd9e5151",
   "metadata": {},
   "outputs": [],
   "source": [
    "regression_model = LinearRegression().fit(X_train, y_train)"
   ]
  },
  {
   "cell_type": "code",
   "execution_count": null,
   "id": "a8c42f47",
   "metadata": {},
   "outputs": [],
   "source": [
    "y_pred = regression_model.predict(X_test)"
   ]
  },
  {
   "cell_type": "code",
   "execution_count": null,
   "id": "17f02287",
   "metadata": {},
   "outputs": [],
   "source": [
    "y_pred"
   ]
  },
  {
   "cell_type": "code",
   "execution_count": null,
   "id": "74a2c7a9",
   "metadata": {},
   "outputs": [],
   "source": [
    "y_test = y_test.to_numpy()"
   ]
  },
  {
   "cell_type": "code",
   "execution_count": null,
   "id": "b02d9c51",
   "metadata": {},
   "outputs": [],
   "source": [
    "results.shape"
   ]
  },
  {
   "cell_type": "code",
   "execution_count": null,
   "id": "fa72e813",
   "metadata": {},
   "outputs": [],
   "source": [
    "y_test.shape"
   ]
  },
  {
   "cell_type": "code",
   "execution_count": null,
   "id": "13748887",
   "metadata": {},
   "outputs": [],
   "source": [
    "metrics.mean_absolute_error(y_test, y_pred)"
   ]
  },
  {
   "cell_type": "code",
   "execution_count": null,
   "id": "172e7b4b",
   "metadata": {},
   "outputs": [],
   "source": [
    "metrics.mean_absolute_error(y_test, y_pred)"
   ]
  },
  {
   "cell_type": "code",
   "execution_count": null,
   "id": "78bb7a76",
   "metadata": {},
   "outputs": [],
   "source": [
    "np.sqrt(metrics.mean_squared_error(y_test, y_pred))"
   ]
  },
  {
   "cell_type": "code",
   "execution_count": null,
   "id": "7c7f4f5f",
   "metadata": {},
   "outputs": [],
   "source": [
    "plt.scatter(X_train['Seconds'], y_train)\n",
    "plt.scatter(X_test['Seconds'], y_pred, color='red')\n",
    "plt.show()"
   ]
  },
  {
   "cell_type": "code",
   "execution_count": null,
   "id": "65be666e",
   "metadata": {},
   "outputs": [],
   "source": [
    "np.argmax(y_pred)"
   ]
  },
  {
   "cell_type": "code",
   "execution_count": null,
   "id": "8b2afba7",
   "metadata": {},
   "outputs": [],
   "source": [
    "y_pred[236]"
   ]
  },
  {
   "cell_type": "code",
   "execution_count": null,
   "id": "c7d03653",
   "metadata": {},
   "outputs": [],
   "source": [
    "X_test_to_numpy = X_test.to_numpy()"
   ]
  },
  {
   "cell_type": "code",
   "execution_count": null,
   "id": "da126f23",
   "metadata": {},
   "outputs": [],
   "source": [
    "X_test_to_numpy[[236]]"
   ]
  },
  {
   "cell_type": "code",
   "execution_count": null,
   "id": "81cad6af",
   "metadata": {},
   "outputs": [],
   "source": [
    "X_test"
   ]
  },
  {
   "cell_type": "code",
   "execution_count": null,
   "id": "fe2e5b1d",
   "metadata": {},
   "outputs": [],
   "source": [
    "X_9_to_11 = X_test.loc[(X_test['Seconds'] >= 77280) & (X_test['Seconds'] <= 81200)]"
   ]
  },
  {
   "cell_type": "code",
   "execution_count": null,
   "id": "50a35093",
   "metadata": {},
   "outputs": [],
   "source": [
    "X_9_to_11"
   ]
  },
  {
   "cell_type": "code",
   "execution_count": null,
   "id": "e5262a60",
   "metadata": {},
   "outputs": [],
   "source": [
    "twenty_after_spike = X_9_to_11.loc[(X_9_to_11['Seconds'] == 79320)]"
   ]
  },
  {
   "cell_type": "code",
   "execution_count": null,
   "id": "56ac8a78",
   "metadata": {},
   "outputs": [],
   "source": [
    "twenty_after_spike"
   ]
  },
  {
   "cell_type": "code",
   "execution_count": null,
   "id": "574911d6",
   "metadata": {},
   "outputs": [],
   "source": [
    "twenty_after_spike_pred = regression_model.predict(twenty_after_spike)"
   ]
  },
  {
   "cell_type": "code",
   "execution_count": null,
   "id": "bcfe4846",
   "metadata": {},
   "outputs": [],
   "source": [
    "twenty_after_spike_pred"
   ]
  },
  {
   "cell_type": "code",
   "execution_count": null,
   "id": "a6c08a25",
   "metadata": {},
   "outputs": [],
   "source": [
    "twenty_after_spike['Global_intensity'] = twenty_after_spike_pred"
   ]
  },
  {
   "cell_type": "code",
   "execution_count": null,
   "id": "ee910f7c",
   "metadata": {},
   "outputs": [],
   "source": [
    "twenty_after_spike"
   ]
  },
  {
   "cell_type": "code",
   "execution_count": null,
   "id": "b38df869",
   "metadata": {},
   "outputs": [],
   "source": [
    "twenty_after_spike = scaler.inverse_transform(twenty_after_spike)"
   ]
  },
  {
   "cell_type": "code",
   "execution_count": null,
   "id": "23d173fe",
   "metadata": {},
   "outputs": [],
   "source": [
    "X_test['Global_intensity'] = y_pred"
   ]
  },
  {
   "cell_type": "code",
   "execution_count": null,
   "id": "be5f3aea",
   "metadata": {},
   "outputs": [],
   "source": [
    "X_test"
   ]
  },
  {
   "cell_type": "code",
   "execution_count": null,
   "id": "b5b045dc",
   "metadata": {},
   "outputs": [],
   "source": []
  },
  {
   "cell_type": "code",
   "execution_count": null,
   "id": "c92c7651",
   "metadata": {},
   "outputs": [],
   "source": [
    "X_test = pd.DataFrame(X_test, \n",
    "                      columns=['Global_active_power',\n",
    "                               'Global_reactive_power',\n",
    "                               'Sub_metering_1',\n",
    "                               'Sub_metering_2',\n",
    "                               'Sub_metering_3',\n",
    "                               'Seconds',\n",
    "                               'Global_intensity'])"
   ]
  },
  {
   "cell_type": "code",
   "execution_count": null,
   "id": "09f6ff8c",
   "metadata": {},
   "outputs": [],
   "source": [
    "X_test_seconds = X_test[['Seconds']]"
   ]
  },
  {
   "cell_type": "code",
   "execution_count": null,
   "id": "7fe100b2",
   "metadata": {},
   "outputs": [],
   "source": [
    "X_test_seconds"
   ]
  },
  {
   "cell_type": "code",
   "execution_count": null,
   "id": "ef3b9ca5",
   "metadata": {},
   "outputs": [],
   "source": [
    "X_test = X_test.drop(columns='Seconds')"
   ]
  },
  {
   "cell_type": "code",
   "execution_count": null,
   "id": "16b37587",
   "metadata": {},
   "outputs": [],
   "source": [
    "X_test"
   ]
  },
  {
   "cell_type": "code",
   "execution_count": null,
   "id": "5858c277",
   "metadata": {},
   "outputs": [],
   "source": [
    "X_test = scaler.inverse_transform(X_test)"
   ]
  },
  {
   "cell_type": "code",
   "execution_count": null,
   "id": "2f763b68",
   "metadata": {},
   "outputs": [],
   "source": [
    "X_test_seconds = X_test_seconds.to_numpy()"
   ]
  },
  {
   "cell_type": "code",
   "execution_count": null,
   "id": "ff28d3f1",
   "metadata": {},
   "outputs": [],
   "source": [
    "X_test_seconds.shape"
   ]
  },
  {
   "cell_type": "code",
   "execution_count": null,
   "id": "b75ff4d5",
   "metadata": {},
   "outputs": [],
   "source": [
    "X_test = X_test.assign(Seconds=X_test_seconds)"
   ]
  },
  {
   "cell_type": "code",
   "execution_count": null,
   "id": "2f8082a9",
   "metadata": {},
   "outputs": [],
   "source": [
    "X_test = pd.DataFrame(X_test, \n",
    "                      columns=['Global_active_power',\n",
    "                               'Global_reactive_power',\n",
    "                               'Sub_metering_1',\n",
    "                               'Sub_metering_2',\n",
    "                               'Sub_metering_3',\n",
    "                               'Global_intensity'])"
   ]
  },
  {
   "cell_type": "code",
   "execution_count": null,
   "id": "a6c51283",
   "metadata": {},
   "outputs": [],
   "source": [
    "X_test['Seconds'] = X_test_seconds"
   ]
  },
  {
   "cell_type": "code",
   "execution_count": null,
   "id": "5baac155",
   "metadata": {},
   "outputs": [],
   "source": [
    "X_test"
   ]
  },
  {
   "cell_type": "code",
   "execution_count": null,
   "id": "6b192c01",
   "metadata": {},
   "outputs": [],
   "source": [
    "X_test.loc[(X_test['Seconds']==79320)]"
   ]
  },
  {
   "cell_type": "code",
   "execution_count": null,
   "id": "b83e2860",
   "metadata": {},
   "outputs": [],
   "source": [
    "plt.scatter(friday_dec_22['Seconds'], friday_dec_22['Global_intensity'])\n",
    "plt.scatter(79320, 9.153735, color='red')\n",
    "plt.show()"
   ]
  },
  {
   "cell_type": "code",
   "execution_count": null,
   "id": "aec707ef",
   "metadata": {},
   "outputs": [],
   "source": []
  },
  {
   "cell_type": "code",
   "execution_count": null,
   "id": "7bc2f046",
   "metadata": {},
   "outputs": [],
   "source": [
    "X_test_local_min = X_test.to_numpy()\n",
    "\n",
    "# y_pred"
   ]
  },
  {
   "cell_type": "code",
   "execution_count": null,
   "id": "0ece4264",
   "metadata": {},
   "outputs": [],
   "source": [
    "y_pred_local_min"
   ]
  },
  {
   "cell_type": "code",
   "execution_count": null,
   "id": "890a74ce",
   "metadata": {},
   "outputs": [],
   "source": [
    "X_test_local_min = X_test_local_min[:, [5]]"
   ]
  },
  {
   "cell_type": "code",
   "execution_count": null,
   "id": "9a5811da",
   "metadata": {},
   "outputs": [],
   "source": [
    "X_test_local_min.shape"
   ]
  },
  {
   "cell_type": "code",
   "execution_count": null,
   "id": "5efee1a2",
   "metadata": {},
   "outputs": [],
   "source": [
    "X_test_local_minimas = X_test.loc[(X_test['Global_intensity']==X_test_local_min.reshape(-1))]"
   ]
  },
  {
   "cell_type": "code",
   "execution_count": null,
   "id": "7ddee41d",
   "metadata": {},
   "outputs": [],
   "source": [
    "X_test_local_minimas"
   ]
  },
  {
   "cell_type": "code",
   "execution_count": null,
   "id": "83e0378b",
   "metadata": {},
   "outputs": [],
   "source": [
    "plt.scatter(friday_dec_22['Seconds'], friday_dec_22['Global_intensity'])\n",
    "plt.scatter(X_test_local_minimas['Seconds'], X_test_local_minimas['Global_intensity'], color='red')\n",
    "plt.show()"
   ]
  },
  {
   "cell_type": "code",
   "execution_count": null,
   "id": "9774b88b",
   "metadata": {},
   "outputs": [],
   "source": []
  }
 ],
 "metadata": {
  "kernelspec": {
   "display_name": "Python 3",
   "language": "python",
   "name": "python3"
  },
  "language_info": {
   "codemirror_mode": {
    "name": "ipython",
    "version": 3
   },
   "file_extension": ".py",
   "mimetype": "text/x-python",
   "name": "python",
   "nbconvert_exporter": "python",
   "pygments_lexer": "ipython3",
   "version": "3.8.8"
  }
 },
 "nbformat": 4,
 "nbformat_minor": 5
}
